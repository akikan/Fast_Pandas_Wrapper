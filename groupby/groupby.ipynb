{
 "cells": [
  {
   "cell_type": "code",
   "execution_count": 43,
   "metadata": {},
   "outputs": [],
   "source": [
    "import pandas as pd\n",
    "\n",
    "def pandas_groupby(data, groupby_key):\n",
    "    start=time()\n",
    "    temp=[row for i,row in data.groupby(by=groupby_key)]\n",
    "    return time()-start, temp"
   ]
  },
  {
   "cell_type": "code",
   "execution_count": 44,
   "metadata": {},
   "outputs": [],
   "source": [
    "import itertools as it\n",
    "from operator import itemgetter\n",
    "\n",
    "def iter_groupby(data, args):\n",
    "    start=time()\n",
    "    cols=data.columns\n",
    "    array=data.values\n",
    "    key_func=itemgetter(*args)\n",
    "    array = sorted(array, key=key_func)\n",
    "    temp = [list(g) for k, g in it.groupby(array, key=key_func)]\n",
    "    return time()-start, temp"
   ]
  },
  {
   "cell_type": "code",
   "execution_count": 45,
   "metadata": {},
   "outputs": [],
   "source": [
    "import numpy as np\n",
    "from time import time\n"
   ]
  },
  {
   "cell_type": "code",
   "execution_count": 46,
   "metadata": {},
   "outputs": [],
   "source": [
    "dfs={}\n",
    "for key_num in range(1,4):\n",
    "    pa_time=[]\n",
    "    li_time=[]\n",
    "    kumiawase=[]\n",
    "    groupby_num=[]\n",
    "    for i in range(1,6):\n",
    "        i_num=10**i\n",
    "        for j in range(1,6):\n",
    "            j_num=10**j\n",
    "            data = pd.DataFrame(np.random.randint( 1, j_num, (i_num,key_num)))\n",
    "            times, ret=pandas_groupby(data,[ii for ii in range(key_num)])\n",
    "            pa_time.append(times)\n",
    "\n",
    "            times, ret2=iter_groupby(data, [ii for ii in range(key_num)])\n",
    "            li_time.append(times)\n",
    "            groupby_num.append(len(ret))\n",
    "            kumiawase.append((i_num,j_num))\n",
    "    df=pd.DataFrame([pa_time,li_time,kumiawase, groupby_num]).T\n",
    "    df=df.rename(columns={0:\"pandas\", 1:\"iter\", 2:\"kumi\",3:\"groupby_num\"})\n",
    "    dfs[key_num]=df"
   ]
  },
  {
   "cell_type": "code",
   "execution_count": 47,
   "metadata": {},
   "outputs": [],
   "source": [
    "def parse(data):\n",
    "    return pd.Series([data[0], data[1]])"
   ]
  },
  {
   "cell_type": "code",
   "execution_count": 49,
   "metadata": {},
   "outputs": [],
   "source": [
    "for key_num in range(1,4):\n",
    "    dfs[key_num][[\"1\",\"2\"]] = dfs[key_num][\"kumi\"].apply(parse)"
   ]
  },
  {
   "cell_type": "code",
   "execution_count": 72,
   "metadata": {},
   "outputs": [],
   "source": [
    "import seaborn as sns\n",
    "import matplotlib.pyplot as plt\n",
    "%matplotlib inline"
   ]
  },
  {
   "cell_type": "code",
   "execution_count": 84,
   "metadata": {},
   "outputs": [
    {
     "data": {
      "text/plain": [
       "[<matplotlib.lines.Line2D at 0x1fd0bc1ce80>]"
      ]
     },
     "execution_count": 84,
     "metadata": {},
     "output_type": "execute_result"
    },
    {
     "data": {
      "image/png": "[encoded data removed]",
      "text/plain": [
       "<Figure size 432x288 with 1 Axes>"
      ]
     },
     "metadata": {},
     "output_type": "display_data"
    }
   ],
   "source": [
    "fig = plt.figure()\n",
    "ax = fig.add_subplot(111)\n",
    "ax.plot(dfs[1][\"2\"], dfs[1][\"iter\"], label=\"iter\")\n",
    "ax.plot(dfs[1][\"2\"], dfs[1][\"pandas\"], label=\"pandas\")"
   ]
  },
  {
   "cell_type": "code",
   "execution_count": 87,
   "metadata": {},
   "outputs": [],
   "source": [
    "a=dfs[1]"
   ]
  },
  {
   "cell_type": "code",
   "execution_count": 88,
   "metadata": {},
   "outputs": [
    {
     "data": {
      "text/html": [
       "<div>\n",
       "<style scoped>\n",
       "    .dataframe tbody tr th:only-of-type {\n",
       "        vertical-align: middle;\n",
       "    }\n",
       "\n",
       "    .dataframe tbody tr th {\n",
       "        vertical-align: top;\n",
       "    }\n",
       "\n",
       "    .dataframe thead th {\n",
       "        text-align: right;\n",
       "    }\n",
       "</style>\n",
       "<table border=\"1\" class=\"dataframe\">\n",
       "  <thead>\n",
       "    <tr style=\"text-align: right;\">\n",
       "      <th></th>\n",
       "      <th>pandas</th>\n",
       "      <th>iter</th>\n",
       "      <th>kumi</th>\n",
       "      <th>groupby_num</th>\n",
       "      <th>1</th>\n",
       "      <th>2</th>\n",
       "    </tr>\n",
       "  </thead>\n",
       "  <tbody>\n",
       "    <tr>\n",
       "      <th>0</th>\n",
       "      <td>0.00196433</td>\n",
       "      <td>0</td>\n",
       "      <td>(10, 10)</td>\n",
       "      <td>5</td>\n",
       "      <td>10</td>\n",
       "      <td>10</td>\n",
       "    </tr>\n",
       "    <tr>\n",
       "      <th>1</th>\n",
       "      <td>0.00199676</td>\n",
       "      <td>0</td>\n",
       "      <td>(10, 100)</td>\n",
       "      <td>10</td>\n",
       "      <td>10</td>\n",
       "      <td>100</td>\n",
       "    </tr>\n",
       "    <tr>\n",
       "      <th>2</th>\n",
       "      <td>0.00125957</td>\n",
       "      <td>0</td>\n",
       "      <td>(10, 1000)</td>\n",
       "      <td>10</td>\n",
       "      <td>10</td>\n",
       "      <td>1000</td>\n",
       "    </tr>\n",
       "    <tr>\n",
       "      <th>6</th>\n",
       "      <td>0.0177863</td>\n",
       "      <td>0</td>\n",
       "      <td>(100, 100)</td>\n",
       "      <td>64</td>\n",
       "      <td>100</td>\n",
       "      <td>100</td>\n",
       "    </tr>\n",
       "    <tr>\n",
       "      <th>7</th>\n",
       "      <td>0.00598383</td>\n",
       "      <td>0</td>\n",
       "      <td>(100, 1000)</td>\n",
       "      <td>96</td>\n",
       "      <td>100</td>\n",
       "      <td>1000</td>\n",
       "    </tr>\n",
       "    <tr>\n",
       "      <th>8</th>\n",
       "      <td>0.00598717</td>\n",
       "      <td>0</td>\n",
       "      <td>(100, 10000)</td>\n",
       "      <td>98</td>\n",
       "      <td>100</td>\n",
       "      <td>10000</td>\n",
       "    </tr>\n",
       "    <tr>\n",
       "      <th>9</th>\n",
       "      <td>0.00498772</td>\n",
       "      <td>0</td>\n",
       "      <td>(100, 100000)</td>\n",
       "      <td>100</td>\n",
       "      <td>100</td>\n",
       "      <td>100000</td>\n",
       "    </tr>\n",
       "    <tr>\n",
       "      <th>10</th>\n",
       "      <td>0.000995159</td>\n",
       "      <td>0</td>\n",
       "      <td>(1000, 10)</td>\n",
       "      <td>9</td>\n",
       "      <td>1000</td>\n",
       "      <td>10</td>\n",
       "    </tr>\n",
       "    <tr>\n",
       "      <th>11</th>\n",
       "      <td>0.00498843</td>\n",
       "      <td>0.000994921</td>\n",
       "      <td>(1000, 100)</td>\n",
       "      <td>99</td>\n",
       "      <td>1000</td>\n",
       "      <td>100</td>\n",
       "    </tr>\n",
       "    <tr>\n",
       "      <th>12</th>\n",
       "      <td>0.0319448</td>\n",
       "      <td>0</td>\n",
       "      <td>(1000, 1000)</td>\n",
       "      <td>611</td>\n",
       "      <td>1000</td>\n",
       "      <td>1000</td>\n",
       "    </tr>\n",
       "    <tr>\n",
       "      <th>13</th>\n",
       "      <td>0.0397105</td>\n",
       "      <td>0</td>\n",
       "      <td>(1000, 10000)</td>\n",
       "      <td>940</td>\n",
       "      <td>1000</td>\n",
       "      <td>10000</td>\n",
       "    </tr>\n",
       "    <tr>\n",
       "      <th>14</th>\n",
       "      <td>0.0468638</td>\n",
       "      <td>0</td>\n",
       "      <td>(1000, 100000)</td>\n",
       "      <td>996</td>\n",
       "      <td>1000</td>\n",
       "      <td>100000</td>\n",
       "    </tr>\n",
       "    <tr>\n",
       "      <th>17</th>\n",
       "      <td>0.0619497</td>\n",
       "      <td>0.00598454</td>\n",
       "      <td>(10000, 1000)</td>\n",
       "      <td>999</td>\n",
       "      <td>10000</td>\n",
       "      <td>1000</td>\n",
       "    </tr>\n",
       "    <tr>\n",
       "      <th>18</th>\n",
       "      <td>0.297099</td>\n",
       "      <td>0.0156212</td>\n",
       "      <td>(10000, 10000)</td>\n",
       "      <td>6274</td>\n",
       "      <td>10000</td>\n",
       "      <td>10000</td>\n",
       "    </tr>\n",
       "    <tr>\n",
       "      <th>19</th>\n",
       "      <td>0.468334</td>\n",
       "      <td>0.00798202</td>\n",
       "      <td>(10000, 100000)</td>\n",
       "      <td>9518</td>\n",
       "      <td>10000</td>\n",
       "      <td>100000</td>\n",
       "    </tr>\n",
       "    <tr>\n",
       "      <th>23</th>\n",
       "      <td>0.516801</td>\n",
       "      <td>0.0948584</td>\n",
       "      <td>(100000, 10000)</td>\n",
       "      <td>9999</td>\n",
       "      <td>100000</td>\n",
       "      <td>10000</td>\n",
       "    </tr>\n",
       "    <tr>\n",
       "      <th>24</th>\n",
       "      <td>3.43414</td>\n",
       "      <td>0.188499</td>\n",
       "      <td>(100000, 100000)</td>\n",
       "      <td>63217</td>\n",
       "      <td>100000</td>\n",
       "      <td>100000</td>\n",
       "    </tr>\n",
       "  </tbody>\n",
       "</table>\n",
       "</div>"
      ],
      "text/plain": [
       "         pandas         iter              kumi groupby_num       1       2\n",
       "0    0.00196433            0          (10, 10)           5      10      10\n",
       "1    0.00199676            0         (10, 100)          10      10     100\n",
       "2    0.00125957            0        (10, 1000)          10      10    1000\n",
       "6     0.0177863            0        (100, 100)          64     100     100\n",
       "7    0.00598383            0       (100, 1000)          96     100    1000\n",
       "8    0.00598717            0      (100, 10000)          98     100   10000\n",
       "9    0.00498772            0     (100, 100000)         100     100  100000\n",
       "10  0.000995159            0        (1000, 10)           9    1000      10\n",
       "11   0.00498843  0.000994921       (1000, 100)          99    1000     100\n",
       "12    0.0319448            0      (1000, 1000)         611    1000    1000\n",
       "13    0.0397105            0     (1000, 10000)         940    1000   10000\n",
       "14    0.0468638            0    (1000, 100000)         996    1000  100000\n",
       "17    0.0619497   0.00598454     (10000, 1000)         999   10000    1000\n",
       "18     0.297099    0.0156212    (10000, 10000)        6274   10000   10000\n",
       "19     0.468334   0.00798202   (10000, 100000)        9518   10000  100000\n",
       "23     0.516801    0.0948584   (100000, 10000)        9999  100000   10000\n",
       "24      3.43414     0.188499  (100000, 100000)       63217  100000  100000"
      ]
     },
     "execution_count": 88,
     "metadata": {},
     "output_type": "execute_result"
    }
   ],
   "source": [
    "a[a[\"pandas\"]>a[\"iter\"]]"
   ]
  },
  {
   "cell_type": "code",
   "execution_count": null,
   "metadata": {},
   "outputs": [],
   "source": []
  }
 ],
 "metadata": {
  "kernelspec": {
   "display_name": "Python 3",
   "language": "python",
   "name": "python3"
  },
  "language_info": {
   "codemirror_mode": {
    "name": "ipython",
    "version": 3
   },
   "file_extension": ".py",
   "mimetype": "text/x-python",
   "name": "python",
   "nbconvert_exporter": "python",
   "pygments_lexer": "ipython3",
   "version": "3.6.5"
  }
 },
 "nbformat": 4,
 "nbformat_minor": 2
}
